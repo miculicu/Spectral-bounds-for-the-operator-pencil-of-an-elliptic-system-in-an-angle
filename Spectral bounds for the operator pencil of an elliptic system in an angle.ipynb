{
 "cells": [
  {
   "cell_type": "markdown",
   "id": "89750b85-0d86-459a-b7cc-ed195e3c61a7",
   "metadata": {},
   "source": [
    "# Spectral Bounds for the Operator Pencil of an Elliptic System in an Angle\n",
    "\n",
    "This notebook numerically implements parts of the paper [Spectral Bounds for the Operator Pencil of an Elliptic System in an Angle](https://arxiv.org/abs/2412.11858).\n",
    "\n",
    "\n",
    "#### Key Features:\n",
    "1. Checking ellipticity of a tuple.\n",
    "2. Calculating the monic reduction of an elliptic touple.\n",
    "3. Computing the standard root of an elliptic tuple and verifying algebraic relations.\n",
    "4. Plots for the relationship between the regularity parameter $\\lambda$ and the opening angle $\\alpha$.\n",
    "\n",
    "#### Library Versions Used (Last Updated):\n",
    "- **Numpy**: 2.2.6\n",
    "- **Matplotlib**: 3.10.3\n",
    "- **SciPy**: 1.15.3\n",
    "\n",
    "This notebook was developed with assistance from OpenAI's ChatGPT (version: GPT-4, December 2024)."
   ]
  },
  {
   "cell_type": "code",
   "execution_count": 20,
   "id": "d41ae003-599c-42b2-9bac-c99d365fce50",
   "metadata": {},
   "outputs": [
    {
     "name": "stdout",
     "output_type": "stream",
     "text": [
      "Numpy version: 2.2.6\n",
      "Matplotlib version: 3.10.3\n",
      "SciPy version: 1.15.3\n"
     ]
    }
   ],
   "source": [
    "# ===============================\n",
    "# 1. Setup\n",
    "# ===============================\n",
    "\n",
    "# Import standard libraries\n",
    "from math import pi\n",
    "from cmath import exp, cos, sin, log  # Complex math utilities\n",
    "\n",
    "# Import third-party libraries\n",
    "import numpy as np  # Numerical computations\n",
    "import matplotlib.pyplot as plt  # Plotting utilities\n",
    "from scipy.linalg import eig, inv, det  # Linear algebra functions\n",
    "\n",
    "# Log versions of important libraries for reproducibility\n",
    "import importlib.metadata\n",
    "print(f\"Numpy version: {importlib.metadata.version('numpy')}\")\n",
    "print(f\"Matplotlib version: {importlib.metadata.version('matplotlib')}\")\n",
    "print(f\"SciPy version: {importlib.metadata.version('scipy')}\")"
   ]
  },
  {
   "cell_type": "markdown",
   "id": "93eac6c3-a18c-484b-8a10-c4b960191f91",
   "metadata": {},
   "source": [
    "## 1. Calculating the monic reduction of an elliptic touple\n",
    "The monic reduction of a given tuple is calculated. For more details, refer to Section 3.1 of the paper."
   ]
  },
  {
   "cell_type": "markdown",
   "id": "1359b9f1-dfb4-4efc-bd7c-059329fb15b1",
   "metadata": {},
   "source": [
    "Let us consider the following elliptic tuple:"
   ]
  },
  {
   "cell_type": "code",
   "execution_count": 21,
   "id": "1da72c71-b206-4a3e-8d57-819624f2206e",
   "metadata": {},
   "outputs": [],
   "source": [
    "# Define matrices for the tuple\n",
    "A_11 = np.array([[3, -0.3], [-0.3, 1.5]])\n",
    "A_12 = np.array([[1.5, -0.9], [-0.9, 0.8]])\n",
    "A_22 = np.array([[2.5, 0.3], [0.3, 1.8]])"
   ]
  },
  {
   "cell_type": "markdown",
   "id": "b47764b7-4a78-4ff0-a069-5b7534d0f489",
   "metadata": {},
   "source": [
    "The monic reduction is calculated by using $A_{22}^{1/2}$:"
   ]
  },
  {
   "cell_type": "code",
   "execution_count": 22,
   "id": "5c716000-6e7d-4cbe-833f-999ab0c2ce1a",
   "metadata": {},
   "outputs": [
    {
     "name": "stdout",
     "output_type": "stream",
     "text": [
      "The monic reduction is given by:\n",
      "\n",
      "A_11 =\n",
      "[[ 1.23961585 -0.29315726]\n",
      " [-0.29315726  0.87603041]]\n",
      "\n",
      "A_12 =\n",
      "[[ 0.6667467  -0.50916367]\n",
      " [-0.50916367  0.52146192]]\n",
      "\n",
      "A_22 =\n",
      "[[1. 0.]\n",
      " [0. 1.]]\n",
      "\n"
     ]
    }
   ],
   "source": [
    "def compute_monic_reduction(A_11, A_12, A_22):\n",
    "    \"\"\"Compute the monic reduction of the tuple (A_11, A_12, A_22).\"\"\"\n",
    "\n",
    "    # Compute A_22^{-1/2}\n",
    "    eigvals, eigvecs = np.linalg.eigh(A_22)  # Symmetric eigenvalue decomposition\n",
    "    A_22_inv_sqrt = eigvecs @ np.diag(1 / np.sqrt(eigvals)) @ eigvecs.T  # A_22^{-1/2}\n",
    "    \n",
    "    # Compute monic reduction\n",
    "    A_tilde_11 = A_22_inv_sqrt @ A_11 @ A_22_inv_sqrt\n",
    "    A_tilde_12 = A_22_inv_sqrt @ A_12 @ A_22_inv_sqrt\n",
    "    Identity = np.eye(A_22.shape[0])  # Identity matrix of size matching A_22\n",
    "    \n",
    "    return A_tilde_11, A_tilde_12, Identity\n",
    "\n",
    "A_11, A_12, A_22 = compute_monic_reduction(A_11, A_12, A_22)\n",
    "print(f\"The monic reduction is given by:\\n\")\n",
    "print(f\"A_11 =\\n{A_11}\\n\")\n",
    "print(f\"A_12 =\\n{A_12}\\n\")\n",
    "print(f\"A_22 =\\n{A_22}\\n\")"
   ]
  },
  {
   "cell_type": "markdown",
   "id": "70966d56-b2e3-42f4-ae49-aed01f10c8ba",
   "metadata": {},
   "source": [
    "## 2. Computing the standard root"
   ]
  },
  {
   "cell_type": "markdown",
   "id": "251e38f2-694a-43de-9650-c4b34070e7a1",
   "metadata": {},
   "source": [
    "The standard root $V$ is calculated (see Lemma 3.2) using the eigenvalues and eigenvectors of the so-called quadratic eigenvalue problem. The quadratic eigenvalue equation is transformed into a linear problem following the approach in **Section 3.4** of [The Quadratic Eigenvalue Problem](https://www.jstor.org/stable/3649752). This might not work, if the algebraic and geometric multiplicities of the linear eigenvalue problem do not coincide.\n",
    "\n",
    "Key steps:\n",
    "- Solve the quadratic eigenvalue equation using linearization.\n",
    "- Extract eigenvalues with positive imaginary parts.\n",
    "- Use the eigenvalues and eigenvectors to define the standard root $V$.\n",
    "\n",
    "The resulting matrix is computed as $ V=Q B Q^{-1} $, where $ Q $ contains the eigenvectors and $ B $ is the diagonal matrix of selected eigenvalues."
   ]
  },
  {
   "cell_type": "markdown",
   "id": "93c9a0b8-3a4f-447c-9b88-566938182ca4",
   "metadata": {},
   "source": [
    "We use the monic elliptic tuple from _1. Calculating the monic reduction of an elliptic touple_ which are stored in $A_{11},A_{12},A_{22}$."
   ]
  },
  {
   "cell_type": "code",
   "execution_count": 23,
   "id": "c0a96d1a-2b64-4790-b245-f3c53a776439",
   "metadata": {},
   "outputs": [
    {
     "name": "stdout",
     "output_type": "stream",
     "text": [
      "The standard root of the tuple is:\n",
      " [[-0.6667+0.6437j  0.4534+0.2481j]\n",
      " [ 0.5649+0.2481j -0.5215+0.5805j]]\n"
     ]
    }
   ],
   "source": [
    "import numpy as np\n",
    "from scipy.linalg import eig, inv\n",
    "\n",
    "def quadr(A, B, C):\n",
    "    \"\"\"\n",
    "    Compute the eigenvalues and eigenvectors of the quadratic eigenvalue problem\n",
    "    using a linearization approach.\n",
    "    \n",
    "    Args:\n",
    "        A, B, C (np.ndarray): Coefficients of the quadratic eigenvalue equation.\n",
    "        \n",
    "    Returns:\n",
    "        tuple: Eigenvalues and eigenvectors of the linearized system.\n",
    "    \"\"\"\n",
    "    n = A.shape[0]\n",
    "    X = np.block([[np.zeros((n, n)), np.eye(n)], [-A, -B]])\n",
    "    Y = np.block([[np.eye(n), np.zeros((n, n))], [np.zeros((n, n)), C]])\n",
    "    return eig(X, Y)\n",
    "\n",
    "def getV(A_11, A_12):\n",
    "    \"\"\"\n",
    "    Extract eigenvalues with positive imaginary parts and their corresponding eigenvectors\n",
    "    from the quadratic eigenvalue equation.\n",
    "    \"\"\" \n",
    "    # Solve the quadratic eigenvalue problem\n",
    "    n = A_11.shape[0]\n",
    "    eigenvalues, eigenvectors = quadr(A_11, 2 * A_12, np.eye(n))\n",
    "    \n",
    "    # Select eigenvalues with positive imaginary parts\n",
    "    positive_imag_indices = np.where(eigenvalues.imag > 0)[0]\n",
    "    if positive_imag_indices.size == 0:\n",
    "        raise ValueError(\"No eigenvalues with positive imaginary parts found.\")\n",
    "    \n",
    "    # Extract eigenvectors and construct diagonal matrix B\n",
    "    Q = eigenvectors[:n, positive_imag_indices]\n",
    "    B = np.diag(eigenvalues[positive_imag_indices])\n",
    "    \n",
    "    # Compute Q @ B @ inv(Q)\n",
    "    try:\n",
    "        result = Q @ B @ inv(Q)\n",
    "    except np.linalg.LinAlgError:\n",
    "        raise ValueError(\"Matrix inversion failed. Eigenvector matrix Q might be ill-conditioned.\")\n",
    "    \n",
    "    return result\n",
    "\n",
    "# Calculate V\n",
    "try:\n",
    "    V = getV(A_11, A_12)\n",
    "    print(\"The standard root of the tuple is:\\n\", np.round(V, decimals=4))\n",
    "except ValueError as e:\n",
    "    print(\"Error:\", e)"
   ]
  },
  {
   "cell_type": "markdown",
   "id": "cacef864-7676-4d10-93da-2880573f88fa",
   "metadata": {},
   "source": [
    "## 4. Plots for the relationship between the regularity parameter $\\lambda$ and the opening angle $\\alpha$.\n",
    "\n",
    "\n",
    "In this part, we analyze the relationship between the opening angle $ \\alpha $ and the regularity parameter $ \\lambda $ for the model problem. The analysis relies on Section 5 of the paper. Note that $0\\in \\sigma(A)\\iff \\det(A)=0$."
   ]
  },
  {
   "cell_type": "markdown",
   "id": "a6170a0c-c98c-4a61-bdb4-dacba4f33107",
   "metadata": {},
   "source": [
    "### 4.1 Implementing complex exponentiation and $\\det( M_{\\lambda,\\alpha})$\n",
    "\n",
    "1. Implement complex exponentiation that accounts for different branches of the logarithm.\n",
    "2. Implement $\\det( M_{\\lambda,\\alpha}) $ for Dirichlet, mixed, and Neumann boundary conditions."
   ]
  },
  {
   "cell_type": "code",
   "execution_count": 24,
   "id": "87953d9b-e6a7-439a-b558-9fcce87ef217",
   "metadata": {},
   "outputs": [],
   "source": [
    "import numpy as np\n",
    "from scipy.linalg import eig, inv, det\n",
    "from cmath import log, exp, cos, sin\n",
    "\n",
    "def complex_log(z, branch=0):\n",
    "    \"\"\"\n",
    "    Compute the logarithm of a complex number with branch control.\n",
    "    \n",
    "    Args:\n",
    "        z (complex): Input complex number.\n",
    "        branch (int): Logarithm branch (-1, 0, or 1).\n",
    "    \"\"\"\n",
    "    z_abs = np.abs(z)\n",
    "    z_arg = np.angle(z)\n",
    "\n",
    "    if branch == 1 and z_arg < 0:\n",
    "        z_arg += 2 * np.pi\n",
    "    elif branch == -1 and z_arg > 0:\n",
    "        z_arg -= 2 * np.pi\n",
    "    elif branch not in (-1, 0, 1):\n",
    "        raise ValueError(f\"Invalid branch value: {branch}\")\n",
    "\n",
    "    return log(z_abs) + 1j * z_arg\n",
    "\n",
    "def complex_exponent(z, lamb, branch=0):\n",
    "    \"\"\"\n",
    "    Compute z^lamb using a logarithmic branch control.\n",
    "    \"\"\"\n",
    "    return exp(lamb * complex_log(z, branch))\n",
    "\n",
    "def matrix_function(M, func):\n",
    "    \"\"\"\n",
    "    Implementing functional calculus\n",
    "    \"\"\"\n",
    "    B, Q = eig(M)  # Eigenvalues and eigenvectors\n",
    "    return Q @ np.diag([func(b) for b in B]) @ inv(Q)\n",
    "\n",
    "def det_dirichlet(S, D, lamb, alpha):\n",
    "    \"\"\"\n",
    "    Compute det(M_lambda,alpha) for Dirichlet boundary conditions.\n",
    "    \"\"\"\n",
    "    V = S@D+1j*D\n",
    "    Va = np.eye(V.shape[0]) * cos(alpha) + sin(alpha) * V\n",
    "    Val = matrix_function(Va, lambda z: complex_exponent(z, lamb, branch=1))\n",
    "    Val_c = matrix_function(np.conj(Va), lambda z: complex_exponent(z, lamb, branch=-1))\n",
    "    return det(Val - Val_c)\n",
    "\n",
    "def det_mixed(S, D, lamb, alpha):\n",
    "    \"\"\"\n",
    "    Compute det(M_lambda,alpha) for Mixed boundary conditions.\n",
    "    \"\"\"\n",
    "    V = S@D+1j*D\n",
    "    Va = np.eye(V.shape[0]) * cos(alpha) + sin(alpha) * V\n",
    "    Val = matrix_function(Va, lambda z: complex_exponent(z, lamb, branch=1))\n",
    "    Val_c = matrix_function(np.conj(Va), lambda z: complex_exponent(z, lamb, branch=-1))\n",
    "    E = 0.5 * (S @ D - D @ S) + 1j * D\n",
    "    return det(E @ Val - np.conj(E) @ Val_c)\n",
    "\n",
    "def det_neumann(S, D, lamb, alpha):\n",
    "    \"\"\"\n",
    "    Compute det(M_lambda,alpha) for Neumann boundary conditions.\n",
    "    \"\"\"\n",
    "    V = S@D+1j*D\n",
    "    Va = np.eye(V.shape[0]) * cos(alpha) + sin(alpha) * V\n",
    "    Val = matrix_function(Va, lambda z: complex_exponent(z, lamb, branch=1))\n",
    "    Val_c = matrix_function(np.conj(Va), lambda z: complex_exponent(z, lamb, branch=-1))\n",
    "    E = 0.5 * (S @ D - D @ S) + 1j * D\n",
    "    return det(E @ Val @ inv(E) - np.conj(E) @ Val_c @ inv(np.conj(E)))"
   ]
  },
  {
   "cell_type": "markdown",
   "id": "0398b001-42aa-4f4c-9b0c-4848355bc3ca",
   "metadata": {},
   "source": [
    "### 4.2 Implementing a solver starting from $\\alpha=2\\pi$\n",
    "\n",
    "Using Newton's method, we implement a solver which calculates different branches of pairs $(\\alpha,\\lambda)$ such that $ \\det(M_{\\lambda,\\alpha})=0 $:\n",
    "1. Starting from an initial guess $\\lambda_0 $ at $\\alpha=2\\pi$, we compute solutions iteratively for a sequence of $ \\alpha $ values.\n",
    "2. Each solution serves as the initial guess for the next iteration. Using small perturbation, we are able to detect different branches. \n"
   ]
  },
  {
   "cell_type": "code",
   "execution_count": 25,
   "id": "2f073578-a883-412d-b5b3-27048409e25d",
   "metadata": {},
   "outputs": [],
   "source": [
    "def newton_complex(f, x0, tol=1e-5, maxiter=100):\n",
    "    \"\"\"\n",
    "    Perform Newton's method for finding roots of a complex function.\n",
    "    \"\"\"\n",
    "    def fprime(z):\n",
    "        h = 1e-10\n",
    "        return (f(z + h) - f(z - h)) / (2 * h)  # Central difference for better accuracy\n",
    "\n",
    "    x = x0\n",
    "    for i in range(maxiter):\n",
    "        fx = f(x)\n",
    "        fpx = fprime(x)\n",
    "        if abs(fpx) < tol:  # Warn if the derivative is too small\n",
    "            raise ZeroDivisionError(f\"Derivative is too small near z = {x}.\")\n",
    "        x_new = x - fx / fpx\n",
    "        if abs(x_new - x) < tol:  # Convergence check\n",
    "            return x_new\n",
    "        x = x_new\n",
    "\n",
    "    # If convergence fails\n",
    "    raise RuntimeError(f\"Newton's method did not converge after {maxiter} iterations.\")\n",
    "\n",
    "def newton_series(S,D, alphas, func, guess, pert, cap=2, tol=1e-4):\n",
    "    \"\"\"\n",
    "    Perform a series of Newton's method iterations for varying alphas.\n",
    "\n",
    "    Args:\n",
    "        V (np.ndarray): Matrix parameter for the target function.\n",
    "        alphas (iterable): Sequence of alpha values.\n",
    "        func (callable): Function to evaluate (determinant of M_lambda,alpha).\n",
    "        guess (float): Initial guess for lambda.\n",
    "        pert (float): Perturbation applied to the guess for the next iteration.\n",
    "        cap (float): Norm cap for valid results.\n",
    "        tol (float): Convergence tolerance.\n",
    "\n",
    "    Returns:\n",
    "        np.ndarray: Array of results for each alpha, with 100 indicating failure.\n",
    "    \"\"\"\n",
    "    results = [100] * len(alphas)  # Initialize with failure markers\n",
    "    for i, alpha in enumerate(alphas[::-1]):  # Iterate over reversed alphas\n",
    "        try:\n",
    "            # Perform Newton's method to find the root\n",
    "            result = newton_complex(lambda lamb: func(S,D, lamb, alpha), guess + pert, tol=tol)\n",
    "            if np.linalg.norm(result) > cap:  # Check if result exceeds the cap\n",
    "                break\n",
    "            else:\n",
    "                results[i] = result  # Store successful result\n",
    "                guess = result  # Update guess for the next iteration\n",
    "        except (ZeroDivisionError, RuntimeError) as e:\n",
    "            print(f\"Warning: Newton's method failed for alpha = {alpha}: {e}\")\n",
    "            break\n",
    "\n",
    "    return np.array(results)[::-1]  # Reverse the results back to match original alpha order\n"
   ]
  },
  {
   "cell_type": "markdown",
   "id": "cbd05b93-9c13-4c35-b5a9-5d2648f55179",
   "metadata": {},
   "source": [
    "### 4.3 Implementing the visualization"
   ]
  },
  {
   "cell_type": "markdown",
   "id": "d18634bf-3ca6-4586-a0fb-864b0f4901db",
   "metadata": {},
   "source": [
    "We implement the graphical visualization which was used for the plots in the paper."
   ]
  },
  {
   "cell_type": "code",
   "execution_count": 26,
   "id": "47b993e7-5c9f-4af9-b7bb-5592624a8ca6",
   "metadata": {},
   "outputs": [],
   "source": [
    "def plot_lambdas_alphas(alphas, results_d=None, results_m=None, results_n=None, \n",
    "                        yrange=(0, 1), save_path='plot.pdf', dpi=300):\n",
    "    \"\"\"\n",
    "    Plot the relationship between alphas and lambda results for different boundary conditions.\n",
    "\n",
    "    Args:\n",
    "        alphas (list): List of angle values (alpha).\n",
    "        results_d (list of lists): Results for Dirichlet boundary conditions.\n",
    "        results_m (list of lists): Results for Mixed boundary conditions.\n",
    "        results_n (list of lists): Results for Neumann boundary conditions.\n",
    "        yrange (tuple): Y-axis range for the plot.\n",
    "        save_path (str): File path to save the plot.\n",
    "        dpi (int): Resolution for saving the plot.\n",
    "    \"\"\"\n",
    "    # Initialize the figure and axis\n",
    "    fig, ax = plt.subplots()\n",
    "\n",
    "    # Define colors and labels for different boundary conditions\n",
    "    conditions = [\n",
    "        (results_n, 'orange', '-', 'Neumann'),\n",
    "        (results_d, 'blue', '--', 'Dirichlet'),\n",
    "        (results_m, 'green', '-', 'Mixed')   \n",
    "    ]\n",
    "\n",
    "    # Plot each condition if the results are provided\n",
    "    for results, color, linestyle, label in conditions:\n",
    "        if results is not None:\n",
    "            for i, result in enumerate(results):\n",
    "                ax.plot(alphas, result, color=color, linestyle=linestyle, \n",
    "                        label=label if i == 0 else None)\n",
    "\n",
    "    # Add reference lines\n",
    "    for y in [0.5, 1, 2]:\n",
    "        ax.axhline(y=y, color='grey', linestyle='--')\n",
    "    ax.axvline(x=np.pi, color='grey', linestyle='--')\n",
    "\n",
    "    # Set axis limits\n",
    "    plt.ylim(yrange)\n",
    "    plt.xlim(min(alphas) - 0.1, max(alphas))\n",
    "    ax.set_yticks([0, 0.5, 1, 1.5])\n",
    "\n",
    "    # Customize ticks\n",
    "    xticks = [t for t in [0, np.pi, 2 * np.pi] if min(alphas) - 0.1 <= t <= max(alphas) + 0.1]\n",
    "    xtick_labels = [r'0' if t == 0 else r'$\\pi$' if t == np.pi else r'$2\\pi$' for t in xticks]\n",
    "    ax.set_xticks(xticks)\n",
    "    ax.set_xticklabels(xtick_labels)\n",
    "\n",
    "    # Add labels, legend, and title\n",
    "    plt.legend()\n",
    "    plt.xlabel(r'Angle $\\alpha$',fontsize=14)\n",
    "    plt.ylabel(r'$Re~ \\lambda$',fontsize=16)\n",
    "    plt.savefig('plot.png', dpi=300, bbox_inches='tight')\n",
    "\n",
    "    # Save the plot\n",
    "    plt.savefig(save_path, dpi=dpi, bbox_inches='tight')\n",
    "    plt.show()\n"
   ]
  },
  {
   "cell_type": "markdown",
   "id": "1608bb14-02bf-4440-bf8d-164a06d846a4",
   "metadata": {},
   "source": [
    "### 4.4 Branches for Dirichlet, Mixed, and Neumann boundary conditions\n",
    "\n",
    "We calculate the branches for a given tuple and plot them."
   ]
  },
  {
   "cell_type": "code",
   "execution_count": 15,
   "id": "68fb9d4d-7247-4798-9018-f9b95bf777f8",
   "metadata": {},
   "outputs": [
    {
     "data": {
      "image/png": "[encoded data removed]",
      "text/plain": [
       "<Figure size 640x480 with 1 Axes>"
      ]
     },
     "metadata": {},
     "output_type": "display_data"
    }
   ],
   "source": [
    "import numpy as np\n",
    "\n",
    "# Define matrices\n",
    "A_11 = np.array([[5, 0.6], [0.6, 1.5]])\n",
    "A_12 = np.array([[0.25, -0.4], [-0.4, -0.2]])\n",
    "A_22 = np.array([[1, 0], [0, 1]])\n",
    "\n",
    "# Get S and D from V = S@D + 1j*D\n",
    "V = getV(A_11, A_12)\n",
    "D = np.imag(V)\n",
    "S = np.real(V) @ inv(D)\n",
    "\n",
    "alphas = np.linspace(1, 2 * np.pi - 0.001, 200)  # Use np.pi for clarity\n",
    "\n",
    "# Prepare results lists for each type of boundary condition\n",
    "results_d = []\n",
    "results_m = []\n",
    "results_n = []\n",
    "\n",
    "# Define initial guesses for each boundary condition\n",
    "initial_guesses_d = [0.5 + 0.1j, 1 + 0.1j]\n",
    "initial_guesses_m = [0.25 + 0.1j, 0.75 + 0.1j]\n",
    "initial_guesses_n = [0.5 + 0.1j, 1 + 0.1j]\n",
    "\n",
    "# Loop for Dirichlet boundary conditions\n",
    "for guess in initial_guesses_d:\n",
    "    # Append results for perturbation in positive and negative directions\n",
    "    results_d.append(newton_series(S,D, alphas, det_dirichlet, guess=guess, pert=0.05, cap=2, tol=1e-4))\n",
    "    results_d.append(newton_series(S,D, alphas, det_dirichlet, guess=guess, pert=-0.05, cap=2, tol=1e-4))\n",
    "\n",
    "# Loop for Mixed boundary conditions\n",
    "for guess in initial_guesses_m:\n",
    "    # Append results for perturbation in positive and negative directions\n",
    "    results_m.append(newton_series(S,D, alphas, det_mixed, guess=guess, pert=0.05, cap=2, tol=1e-4))\n",
    "    results_m.append(newton_series(S,D, alphas, det_mixed, guess=guess, pert=-0.05, cap=2, tol=1e-4))\n",
    "\n",
    "# Loop for Neumann boundary conditions\n",
    "for guess in initial_guesses_n:\n",
    "    # Append results for perturbation in positive and negative directions\n",
    "    results_n.append(newton_series(S,D, alphas, det_neumann, guess=guess, pert=0.05, cap=2, tol=1e-4))\n",
    "    results_n.append(newton_series(S,D, alphas, det_neumann, guess=guess, pert=-0.05, cap=2, tol=1e-4))\n",
    "\n",
    "# Extract real parts of results for plotting\n",
    "real_results_d = [x.real for x in results_d]\n",
    "real_results_m = [x.real for x in results_m]\n",
    "real_results_n = [x.real for x in results_n]\n",
    "\n",
    "# Plot the results using a custom plotting function\n",
    "plot_lambdas_alphas(\n",
    "    alphas,\n",
    "    results_d=real_results_d,\n",
    "    results_m=real_results_m,\n",
    "    results_n=real_results_n\n",
    ")\n"
   ]
  },
  {
   "cell_type": "markdown",
   "id": "47ea2bbd-7494-4bc9-8235-cf68bd1a27c7",
   "metadata": {},
   "source": [
    "### 4.5 Neumann branches for not formal positive tuple\n",
    "We plot the branches of a tuple that is contractive Neumann well-posed but not formal positive. See Appendix B."
   ]
  },
  {
   "cell_type": "markdown",
   "id": "e60ff0eb-f11e-4187-8238-4b6ea6b02db4",
   "metadata": {},
   "source": [
    "#### 4.5.1 Check conditions\n",
    "First we define the tuple and check that it is contractive Neumann well-posed but not formal positive."
   ]
  },
  {
   "cell_type": "code",
   "execution_count": 27,
   "id": "0281c300-740d-4b02-b041-46b7fd120db8",
   "metadata": {},
   "outputs": [
    {
     "name": "stdout",
     "output_type": "stream",
     "text": [
      "V is contractive Neumann well-posed.\n",
      "V is not formally positive.\n"
     ]
    }
   ],
   "source": [
    "import numpy as np\n",
    "from scipy.linalg import eigvals, inv\n",
    "\n",
    "def check_contractive_neumann(V):\n",
    "    \"\"\"\n",
    "    Check if a matrix V satisfies the contractive Neumann well-posedness condition.\n",
    "    \"\"\"\n",
    "    C = V.real\n",
    "    D = V.imag\n",
    "    \n",
    "    # Compute the spectral radius\n",
    "    spectral_radius = max(abs(eigvals(inv(D) @ C - C @ inv(D))))\n",
    "    \n",
    "    if spectral_radius < 2:\n",
    "        print(\"V is contractive Neumann well-posed.\")\n",
    "        return\n",
    "    else:\n",
    "        print(\"V is not contractive Neumann well-posed.\")\n",
    "        return\n",
    "\n",
    "def is_positive_definite(matrix):\n",
    "    \"\"\"\n",
    "    Check if a matrix is positive definite by verifying all eigenvalues are positive.\n",
    "    \"\"\"\n",
    "    eigenvalues = eigvals(matrix)\n",
    "    return np.all(eigenvalues > 0)\n",
    "\n",
    "def check_formal_positive(V):\n",
    "    \"\"\"\n",
    "    Check if a matrix V satisfies the formal positivity condition by constructing\n",
    "    and checking a block matrix for positive definiteness.\n",
    "    \"\"\"\n",
    "    # Define submatrices for the block matrix\n",
    "    A_11 = np.conj(V).T @ V\n",
    "    A_12 = -0.5 * (np.conj(V).T + V)\n",
    "    A_22 = np.eye(A_11.shape[0])\n",
    "    \n",
    "    # Construct the block matrix\n",
    "    A = np.block([[A_11, A_12],\n",
    "                  [A_12, A_22]])\n",
    "    \n",
    "    # Check positive definiteness\n",
    "    if is_positive_definite(A):\n",
    "        print(\"V is formally positive.\")\n",
    "        return\n",
    "    else:\n",
    "        print(\"V is not formally positive.\")\n",
    "        return\n",
    "\n",
    "# Example Usage\n",
    "D = np.array([[2, 1], [1, 2]])\n",
    "S = np.array([[0, 0], [0, 2]])\n",
    "\n",
    "# Define V\n",
    "V = (S + 1j * np.eye(2)) @ D\n",
    "\n",
    "# Check both properties\n",
    "check_contractive_neumann(V)\n",
    "check_formal_positive(V)\n"
   ]
  },
  {
   "cell_type": "markdown",
   "id": "48c19ffb-c230-4b23-bad6-aa96243cc0ec",
   "metadata": {},
   "source": [
    "#### 4.5.2 Plot the branches"
   ]
  },
  {
   "cell_type": "code",
   "execution_count": 30,
   "id": "fe1a9754-1388-464f-9342-31ee7a22ca27",
   "metadata": {},
   "outputs": [
    {
     "data": {
      "image/png": "[encoded data removed]",
      "text/plain": [
       "<Figure size 640x480 with 1 Axes>"
      ]
     },
     "metadata": {},
     "output_type": "display_data"
    }
   ],
   "source": [
    "alphas = np.linspace(pi, 2 * pi - 0.001, 400)\n",
    "\n",
    "results_n=[]\n",
    "\n",
    "initial_guesses_n=[0.5 + 0.1j,1+0.1j]\n",
    "\n",
    "results_n.append(newton_series(S,D,alphas,det_neumann,guess=0.5+0.1j,pert=-0.03,cap=2,tol=1e-6))\n",
    "results_n.append(newton_series(S,D,alphas,det_neumann,guess=0.5-0.1j,pert=+0.02+0.01j,cap=2,tol=1e-6))\n",
    "results_n.append(newton_series(S,D,alphas,det_neumann,guess=1,pert=-0.02-0.01j,cap=2,tol=1e-6))\n",
    "\n",
    "plot_lambdas_alphas(alphas,results_n=[x.real for x in results_n])"
   ]
  },
  {
   "cell_type": "markdown",
   "id": "d74859a5-4e91-4de1-a18c-2ea6f96440f8",
   "metadata": {},
   "source": [
    "### 4.6 Optimality of the bounds\n",
    "We plot Dirichlet, Mixed, and Neumann boundary conditions for a scalar tuple which is close to the bounds given in the main results found in Section 7. See also Section 8.4."
   ]
  },
  {
   "cell_type": "code",
   "execution_count": 31,
   "id": "cbd4bbe8-d4ae-49d0-af35-c4c1d5606a0d",
   "metadata": {},
   "outputs": [
    {
     "data": {
      "image/png": "[encoded data removed]",
      "text/plain": [
       "<Figure size 640x480 with 1 Axes>"
      ]
     },
     "metadata": {},
     "output_type": "display_data"
    }
   ],
   "source": [
    "D=np.array([[1]])\n",
    "S=np.array([[-10]])\n",
    "\n",
    "alphas = np.linspace(1, 2 * pi - 0.001, 400)\n",
    "\n",
    "results_d=[]\n",
    "results_m=[]\n",
    "results_n=[]\n",
    "\n",
    "initial_guesses_d=[0.5+0.1j,1+0.1j]\n",
    "initial_guesses_m=[0.25 + 0.1j,0.75+0.1j]\n",
    "initial_guesses_n=[0.5 + 0.1j,1+0.1j]\n",
    "\n",
    "for guess in initial_guesses_d:\n",
    "    results_d.append(newton_series(S,D,alphas,det_dirichlet,guess=guess,pert=0.05,cap=2,tol=1e-4))\n",
    "\n",
    "for guess in initial_guesses_m:\n",
    "    results_m.append(newton_series(S,D,alphas,det_mixed,guess=guess,pert=0.05,cap=2,tol=1e-4))\n",
    "\n",
    "for guess in initial_guesses_n:\n",
    "    results_n.append(newton_series(S,D,alphas,det_neumann,guess=guess,pert=0.05,cap=2,tol=1e-4))\n",
    "\n",
    "plot_lambdas_alphas(alphas,results_d=[x.real for x in results_d],results_m=[x.real for x in results_m],results_n=[x.real for x in results_n])"
   ]
  },
  {
   "cell_type": "code",
   "execution_count": null,
   "id": "8869d44b-c52c-4b7f-8ec0-63bbddd2ec4f",
   "metadata": {},
   "outputs": [],
   "source": []
  }
 ],
 "metadata": {
  "kernelspec": {
   "display_name": "Python 3 (ipykernel)",
   "language": "python",
   "name": "python3"
  },
  "language_info": {
   "codemirror_mode": {
    "name": "ipython",
    "version": 3
   },
   "file_extension": ".py",
   "mimetype": "text/x-python",
   "name": "python",
   "nbconvert_exporter": "python",
   "pygments_lexer": "ipython3",
   "version": "3.13.3"
  }
 },
 "nbformat": 4,
 "nbformat_minor": 5
}
